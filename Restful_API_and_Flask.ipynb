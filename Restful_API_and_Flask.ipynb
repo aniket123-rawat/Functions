{
  "nbformat": 4,
  "nbformat_minor": 0,
  "metadata": {
    "colab": {
      "provenance": []
    },
    "kernelspec": {
      "name": "python3",
      "display_name": "Python 3"
    },
    "language_info": {
      "name": "python"
    }
  },
  "cells": [
    {
      "cell_type": "markdown",
      "source": [
        "#Restful API and Flask"
      ],
      "metadata": {
        "id": "2XSTlxK0qwgv"
      }
    },
    {
      "cell_type": "markdown",
      "source": [
        "***Theoritical Questions***"
      ],
      "metadata": {
        "id": "cLu4HaMAq0_n"
      }
    },
    {
      "cell_type": "markdown",
      "source": [
        "  1. What is a RESTful API?"
      ],
      "metadata": {
        "id": "11cwakYLq6W-"
      }
    },
    {
      "cell_type": "markdown",
      "source": [
        "A RESTful API, or Representational State Transfer Application Programming Interface, is an API that adheres to the architectural style and principles of REST. REST is not a protocol but rather a set of guidelines for building web services that are scalable, flexible, and easy to use."
      ],
      "metadata": {
        "id": "EXaFnNJwrABY"
      }
    },
    {
      "cell_type": "markdown",
      "source": [
        "  2. Explain the concept of API specification."
      ],
      "metadata": {
        "id": "W0XXknWJrGKf"
      }
    },
    {
      "cell_type": "markdown",
      "source": [
        "An API specification is a formal, detailed description that defines how an Application Programming Interface (API) functions and how other software components can interact with it. It serves as a blueprint or contract, outlining the rules and guidelines for communication between different systems."
      ],
      "metadata": {
        "id": "RHvzhFN1rLTh"
      }
    },
    {
      "cell_type": "markdown",
      "source": [
        "  3. What is Flask, and why is it popular for building APIs?"
      ],
      "metadata": {
        "id": "V1TF4pcorY9K"
      }
    },
    {
      "cell_type": "markdown",
      "source": [
        "  Flask is a micro web framework for Python, used for building web applications and APIs. It is classified as a \"microframework\" because it provides the core functionalities for web development, such as URL routing and request handling, without imposing specific tools or libraries for features like database abstraction or form validation. This minimalist approach allows developers to choose the components they need, fostering flexibility."
      ],
      "metadata": {
        "id": "7uWJxwR9rfFL"
      }
    },
    {
      "cell_type": "markdown",
      "source": [
        "  4. What is routing in Flask?"
      ],
      "metadata": {
        "id": "7hZUv5Onroz0"
      }
    },
    {
      "cell_type": "markdown",
      "source": [
        "  In Flask, routing is the mechanism that maps specific URLs (Uniform Resource Locators) to corresponding Python functions within your application. These functions are known as \"view functions\" and are responsible for handling the logic associated with that particular URL and generating a response to be sent back to the client.\n",
        "  \n",
        "Essentially, when a user accesses a specific URL in their web browser, Flask's routing system determines which view function should be executed to process that request and return the appropriate content."
      ],
      "metadata": {
        "id": "a_FMPxONrvg0"
      }
    },
    {
      "cell_type": "markdown",
      "source": [
        "  5. How do you create a simple Flask application?"
      ],
      "metadata": {
        "id": "mHHJgPFbr3eN"
      }
    },
    {
      "cell_type": "markdown",
      "source": [
        "  # Set up a Project Directory and Virtual Environment:\n",
        "\n",
        "* Create a new folder for your project.\n",
        "\n",
        "* nside this folder, create and activate a Python virtual environment to manage project dependencies. This isolates your project's packages from your system-wide Python installation.\n",
        "\n",
        "  # Install Flask:\n",
        "\n",
        "* With the virtual environment activated, install Flask using pip.\n",
        "\n",
        "  # Create the Flask Application File:\n",
        "\n",
        "* Create a Python file, typically named app.py, within your project directory.\n",
        "\n",
        "  # Write the Flask Application Code:\n",
        "\n",
        "* Import the Flask class.\n",
        "\n",
        "* Create an instance of the Flask class.\n",
        "\n",
        "* Define a route using the @app.route('/') decorator, which maps a URL path to a Python function.\n",
        "\n",
        "* Define the function that will be executed when the route is accessed, and return the content to be displayed.\n",
        "\n",
        "* Include the if __name__ == '__main__': block to run the application when the script is executed directly.\n",
        "\n",
        "  # Run the Flask Application:\n",
        "\n",
        "* From your terminal, with the virtual environment activated, navigate to your project directory and run the app.py file."
      ],
      "metadata": {
        "id": "xmnr9-fTsDju"
      }
    },
    {
      "cell_type": "markdown",
      "source": [
        "  6. What are HTTP methods used in RESTful APIs?"
      ],
      "metadata": {
        "id": "UNaKyEprtHZe"
      }
    },
    {
      "cell_type": "markdown",
      "source": [
        "  RESTful APIs leverage standard HTTP methods to perform operations on resources, aligning with the principles of the Representational State Transfer (REST) architectural style. The most common HTTP methods used in RESTful APIs include:\n",
        "\n",
        "* GET: Used to retrieve a resource or a collection of resources. GET requests should be idempotent and safe, meaning they do not alter the server's state.\n",
        "\n",
        "* POST: Used to create a new resource. POST requests are typically sent to a collection URI, and the server assigns a new URI to the created resource. POST requests are not idempotent.\n",
        "\n",
        "* PUT: Used to update an existing resource or create a new resource if it does not exist at the specified URI. PUT requests are idempotent, meaning multiple identical requests will have the same effect as a single request.\n",
        "\n",
        "* DELETE: Used to remove a resource at a specified URI. DELETE requests are idempotent.\n",
        "\n",
        "* PATCH: Used to apply partial modifications to an existing resource. Unlike PUT, which replaces the entire resource, PATCH applies a set of changes to a resource. PATCH requests are not necessarily idempotent, depending on the nature of the partial update."
      ],
      "metadata": {
        "id": "fnhj2ZUWtPe2"
      }
    },
    {
      "cell_type": "markdown",
      "source": [
        "  7. What is the purpose of the @app.route() decorator in Flask?"
      ],
      "metadata": {
        "id": "6uOp6gabtiqY"
      }
    },
    {
      "cell_type": "markdown",
      "source": [
        "*  The @app.route() decorator in Flask serves the purpose of defining URL routes and associating them with specific Python functions within a Flask application.\n",
        "\n",
        "This decorator performs the following key functions:\n",
        "\n",
        "* URL Mapping:\n",
        "\n",
        " It maps a given URL path to a Python function that will handle requests made to that URL. When a user navigates to the specified URL in their web browser, the decorated function is executed to generate a response."
      ],
      "metadata": {
        "id": "foo07QP-ty8j"
      }
    },
    {
      "cell_type": "code",
      "source": [
        "    from flask import Flask\n",
        "\n",
        "    app = Flask(__name__)\n",
        "\n",
        "    @app.route('/')\n",
        "    def index():\n",
        "        return \"Hello, World!\""
      ],
      "metadata": {
        "id": "VfzPpadyuGZb"
      },
      "execution_count": null,
      "outputs": []
    },
    {
      "cell_type": "markdown",
      "source": [
        "In this example, the @app.route('/') decorator binds the root URL (/) to the index() function. When a request is made to the root URL, the index() function is called, and its return value (\"Hello, World!\") is sent back as the response."
      ],
      "metadata": {
        "id": "BS9kVRiJuQUE"
      }
    },
    {
      "cell_type": "markdown",
      "source": [
        "* HTTP Method Specification:\n",
        "\n",
        "It allows you to specify which HTTP methods (e.g., GET, POST, PUT, DELETE) a particular route should accept. By default, Flask routes only accept GET requests."
      ],
      "metadata": {
        "id": "ZiAu3N38uWA4"
      }
    },
    {
      "cell_type": "markdown",
      "source": [
        "  8. What is the difference between GET and POST HTTP methods?"
      ],
      "metadata": {
        "id": "Vdf95TDzuuzn"
      }
    },
    {
      "cell_type": "markdown",
      "source": [
        "  The fundamental difference between GET and POST HTTP methods lies in their intended purpose and how they handle data:\n",
        "\n",
        "GET Method:\n",
        "\n",
        "Purpose: Primarily used to retrieve data from a specified resource on the server.\n",
        "\n",
        "Data Transmission: Data is sent as URL parameters, visible in the address bar.\n",
        "\n",
        "Safety & Idempotence: Considered \"safe\" (does not alter server state) and \"idempotent\" (multiple identical requests have the same effect as a single request).\n",
        "\n",
        "Caching: GET requests are often cached by browsers and proxies, improving performance for repeated requests.\n",
        "\n",
        "Limitations: Limited data size due to URL length restrictions; less suitable for sensitive data as it's exposed in the URL.\n",
        "\n",
        "POST Method:\n",
        "\n",
        "Purpose: Primarily used to send data to the server to create or update a resource.\n",
        "\n",
        "Data Transmission: Data is sent in the request body, not visible in the URL.\n",
        "\n",
        "Safety & Idempotence: Not considered \"safe\" (can alter server state) and generally not idempotent (multiple identical requests can have different effects).\n",
        "\n",
        "Caching: POST requests are typically not cached.\n",
        "\n",
        "Flexibility: Can handle large amounts of data, including file uploads; more suitable for sensitive data as it's not exposed in the URL."
      ],
      "metadata": {
        "id": "dHOzHrJmu5RY"
      }
    },
    {
      "cell_type": "markdown",
      "source": [
        "  9. How do you handle errors in Flask APIs?"
      ],
      "metadata": {
        "id": "89mwZ6aIvIeK"
      }
    },
    {
      "cell_type": "markdown",
      "source": [
        "Handling errors in a Flask API involves catching exceptions and returning appropriate HTTP responses to the client. This ensures a robust and user-friendly API.\n",
        "\n",
        "Flask provides the @app.errorhandler() decorator to register functions that handle specific HTTP error codes or exception types."
      ],
      "metadata": {
        "id": "TnwvLXsgvOTy"
      }
    },
    {
      "cell_type": "code",
      "source": [
        "    from flask import Flask, jsonify, abort\n",
        "\n",
        "    app = Flask(__name__)\n",
        "\n",
        "    @app.errorhandler(404)\n",
        "    def not_found_error(error):\n",
        "        return jsonify({\"error\": \"Not Found\", \"message\": str(error)}), 404\n",
        "\n",
        "    @app.errorhandler(500)\n",
        "    def internal_server_error(error):\n",
        "        return jsonify({\"error\": \"Internal Server Error\", \"message\": \"Something went wrong on the server.\"}), 500\n",
        "\n",
        "    @app.route('/data/<int:item_id>')\n",
        "    def get_data(item_id):\n",
        "        if item_id == 1:\n",
        "            return jsonify({\"item\": \"Example Item\"})\n",
        "        else:\n",
        "            abort(404, description=\"Item not found\")\n",
        "\n",
        "    if __name__ == '__main__':\n",
        "        app.run(debug=True)"
      ],
      "metadata": {
        "id": "5uGvjmIgvpgL"
      },
      "execution_count": null,
      "outputs": []
    },
    {
      "cell_type": "markdown",
      "source": [
        "  10.How do you connect Flask to a SQL database?"
      ],
      "metadata": {
        "id": "dTMJ0UoNvrsM"
      }
    },
    {
      "cell_type": "markdown",
      "source": [
        "#Configure your Flask application:\n",
        "\n",
        "* Import SQLAlchemy from flask_sqlalchemy.\n",
        "* Create a Flask application instance.\n",
        "* Set the SQLALCHEMY_DATABASE_URI configuration variable to specify your database connection details. This URI includes information like the database type, username, password, host, and database name.\n",
        "* Optionally, set SQLALCHEMY_TRACK_MODIFICATIONS to False to suppress warnings.\n",
        "* Initialize the SQLAlchemy object with your Flask application.\n",
        "\n",
        "# Define Database Models:\n",
        "* Create Python classes that inherit from db.Model. These classes represent your database tables.\n",
        "* Define columns within these classes using db.Column, specifying data types (e.Integer, db.String, etc.) and constraints (primary_key=True, nullable=False, unique=True, etc.).\n",
        "\n",
        "# Create Database Tables:\n",
        "* Within your Flask application context, call db.create_all() to create the tables defined by your models in the database.\n",
        "\n",
        "# Interact with the Database:\n",
        "* You can now use the db object and your defined models to perform database operations (add, query, update, delete data) within your Flask routes or other application logic."
      ],
      "metadata": {
        "id": "PPOjuvzzv5zu"
      }
    },
    {
      "cell_type": "markdown",
      "source": [
        "  11.  What is the role of Flask-SQLAlchemy?"
      ],
      "metadata": {
        "id": "L0GVsyN_wtDr"
      }
    },
    {
      "cell_type": "markdown",
      "source": [
        "  Flask-SQLAlchemy integrates the powerful SQLAlchemy ORM with the Flask web framework, providing a simplified way to interact with relational databases from your Flask applications. Its role is to offer easy configuration for database connections, define data models as Python classes that map to database tables, and handle database sessions tied to web requests, making it straightforward to perform CRUD (Create, Read, Update, Delete) operations on your data without writing raw SQL."
      ],
      "metadata": {
        "id": "M4XNFul6wyyU"
      }
    },
    {
      "cell_type": "markdown",
      "source": [
        "  12. What are Flask blueprints, and how are they useful?"
      ],
      "metadata": {
        "id": "FJNzjKd2w9td"
      }
    },
    {
      "cell_type": "markdown",
      "source": [
        "Flask blueprints are a feature in the Flask web framework that enable the organization of application functionality into modular, reusable components. They are not independent applications but rather objects that encapsulate routes, view functions, templates, and static files related to a specific part of your application.\n",
        "\n",
        "How Flask Blueprints are Useful:\n",
        "\n",
        "* Modular Application Structure: Blueprints allow you to break down a large Flask application into smaller, self-contained units based on features or functionalities. For example, you could have separate blueprints for user authentication, a blog, or an e-commerce section. This promotes better organization and makes the codebase easier to understand and navigate.\n",
        "\n",
        "* Code Reusability: Because blueprints are self-contained, they can be easily reused across different Flask projects. If you develop a robust user authentication system as a blueprint, you can simply integrate it into any new Flask application that requires user management.\n",
        "\n",
        "* Improved Maintainability: By isolating different functionalities within blueprints, changes or bug fixes in one part of the application are less likely to affect other parts. This simplifies debugging and maintenance, as you only need to focus on the relevant blueprint.\n",
        "\n",
        "* Facilitates Team Collaboration: In larger projects, multiple developers can work on different blueprints concurrently without significant conflicts. Each developer can focus on their assigned blueprint, and then all blueprints are integrated into the main application.\n",
        "\n",
        "* Scalability: Blueprints help in building scalable applications by providing a structured way to add new features or expand existing ones without overwhelming the main application file."
      ],
      "metadata": {
        "id": "MhhU_G8NxT-u"
      }
    },
    {
      "cell_type": "markdown",
      "source": [
        "  13. What is the purpose of Flask's request object?"
      ],
      "metadata": {
        "id": "ylgQZ1DuxkHp"
      }
    },
    {
      "cell_type": "markdown",
      "source": [
        "  The purpose of Flask's request object is to provide a comprehensive and convenient interface for accessing all the data and information associated with an incoming HTTP request from a client. When a client sends a request to a Flask application, Flask automatically creates a request object that encapsulates all the details of that specific request.\n",
        "\n",
        "This object allows developers to easily retrieve various components of the request within their view functions, including:\n",
        "\n",
        "* HTTP Method: Accessing the request.method attribute to determine if the request is GET, POST, PUT, DELETE, etc.\n",
        "\n",
        "* Form Data: Retrieving data submitted through HTML forms using request.form, which acts like a dictionary where keys are form field names and values are the submitted data.\n",
        "\n",
        "*Query Parameters: Accessing URL query parameters (the part of the URL after the ?) using request.args.\n",
        "\n",
        "* Headers: Inspecting HTTP headers sent by the client using request.headers.\n",
        "Cookies: Reading cookies sent by the client using request.cookies.\n",
        "\n",
        "* Files: Handling uploaded files using request.files.\n",
        "\n",
        "* JSON Data: If the request body contains JSON data, accessing it using request.json.\n",
        "\n",
        "* URL Information: Retrieving details about the requested URL, such as request.url, request.path, and request.host."
      ],
      "metadata": {
        "id": "XsY41l9hx4yU"
      }
    },
    {
      "cell_type": "markdown",
      "source": [
        "  14. How do you create a RESTful API endpoint using Flask?"
      ],
      "metadata": {
        "id": "_UjSwxDYyNy1"
      }
    },
    {
      "cell_type": "markdown",
      "source": [
        "Creating a RESTful API endpoint using Flask involves defining routes that respond to specific HTTP methods (GET, POST, PUT, DELETE) and return data, typically in JSON format."
      ],
      "metadata": {
        "id": "PUQxQBVNy7t3"
      }
    },
    {
      "cell_type": "code",
      "source": [
        "from flask import Flask, jsonify, request\n",
        "\n",
        "app = Flask(__name__)\n",
        "\n",
        "# Sample in-memory data (simulating a database)\n",
        "items = [\n",
        "    {\"id\": 1, \"name\": \"Item A\", \"description\": \"This is item A\"},\n",
        "    {\"id\": 2, \"name\": \"Item B\", \"description\": \"This is item B\"}\n",
        "]"
      ],
      "metadata": {
        "id": "XfVZ-5bazQZH"
      },
      "execution_count": null,
      "outputs": []
    },
    {
      "cell_type": "markdown",
      "source": [
        " Run the Flask application"
      ],
      "metadata": {
        "id": "dw4VS1mlzVQw"
      }
    },
    {
      "cell_type": "code",
      "source": [
        "if __name__ == '__main__':\n",
        "    app.run(debug=True)"
      ],
      "metadata": {
        "id": "3P_PXzvfzfdW"
      },
      "execution_count": null,
      "outputs": []
    },
    {
      "cell_type": "markdown",
      "source": [
        "This example demonstrates the core principles of creating RESTful endpoints in Flask, handling different HTTP methods, and returning JSON responses. For more complex APIs, consider using extensions like Flask-RESTful for a more structured approach."
      ],
      "metadata": {
        "id": "TdDRuNpEzh-3"
      }
    },
    {
      "cell_type": "markdown",
      "source": [
        "  15. What is the purpose of Flask's jsonify() function?"
      ],
      "metadata": {
        "id": "SIjykyL2zoW2"
      }
    },
    {
      "cell_type": "markdown",
      "source": [
        "Flask's jsonify() function serves a specific purpose in web development, particularly when building APIs. Its primary function is to serialize Python data structures (like dictionaries and lists) into JSON format and return them as a Flask Response object with the appropriate headers.\n",
        "\n",
        "* Here's a breakdown of its key purposes:\n",
        "\n",
        "JSON Serialization: It converts Python data types into their JSON string representation. This is crucial for web APIs, as JSON is a widely accepted data interchange format for communication between clients and servers.\n",
        "\n",
        "Setting Content-Type Header: jsonify() automatically sets the Content-Type header of the HTTP response to application/json. This informs the client (e.g., a web browser or another application) that the response body contains JSON data, allowing it to parse it correctly.\n",
        "\n",
        "Returning a Flask Response Object: Instead of just returning a raw JSON string, jsonify() wraps the JSON data within a Flask Response object. This provides a more complete and proper HTTP response that can be handled by the Flask framework and sent to the client.\n",
        "\n",
        "Convenience for API Development: It simplifies the process of creating JSON responses in Flask applications, especially when building RESTful APIs.\n",
        "\n",
        " Developers can directly pass Python dictionaries or lists to jsonify(), and it handles the serialization and response creation automatically.\n",
        "\n",
        "In essence, jsonify() streamlines the creation of JSON-based API responses in Flask, ensuring proper formatting and adherence to HTTP standards."
      ],
      "metadata": {
        "id": "uwumddgy0FSA"
      }
    },
    {
      "cell_type": "markdown",
      "source": [
        "  16. Explain Flask’s url_for() function."
      ],
      "metadata": {
        "id": "5xrJCJ9y0_rE"
      }
    },
    {
      "cell_type": "markdown",
      "source": [
        "  Flask's url_for() function dynamically generates URLs for specific view functions or static files within a Flask application. This function is crucial for building robust and maintainable web applications, as it prevents hardcoding URLs and makes your application more resilient to route changes."
      ],
      "metadata": {
        "id": "KvsEJ65C0mZi"
      }
    },
    {
      "cell_type": "markdown",
      "source": [
        " 17. How does Flask handle static files (CSS, JavaScript, etc.) ?"
      ],
      "metadata": {
        "id": "gNXuPg1s1D7l"
      }
    },
    {
      "cell_type": "markdown",
      "source": [
        "Flask handles static files like CSS, JavaScript, images, and other assets by serving them from a designated directory within your application.\n",
        "#  The static Folder:\n",
        "\n",
        "By default, Flask looks for static files in a folder named static located in the root of your Flask application.\n",
        "\n",
        "You can organize your static files within this folder using subdirectories, such as static/css, static/js, static/img, etc.\n",
        "\n",
        "# Referencing Static Files in Templates:\n",
        "\n",
        "To link to static files within your HTML templates, you use the url_for() function with the special endpoint 'static'.\n",
        "\n",
        "The filename argument specifies the path to the file relative to the static folder.\n",
        "\n",
        " # Customizing Static Folder and URL:\n",
        "\n",
        "You can change the default static folder and the URL path for static files when initializing your Flask application:"
      ],
      "metadata": {
        "id": "6Hgb0m5B1OS2"
      }
    },
    {
      "cell_type": "markdown",
      "source": [
        "  18. What is an API specification, and how does it help in building a Flask API?"
      ],
      "metadata": {
        "id": "cPDaPPUI1lzA"
      }
    },
    {
      "cell_type": "markdown",
      "source": [
        "An API specification is a machine-readable document that describes the structure and behavior of an API. It acts as a contract between the API provider and the API consumer, defining how different software components should interact. Common API specification languages include OpenAPI (formerly Swagger) and AsyncAPI.\n",
        "\n",
        "# How it helps in building a Flask API:\n",
        "\n",
        "Clear Definition and Design: An API specification forces a clear and structured design process, ensuring all endpoints, parameters, request/response formats, and authentication methods are well-defined before coding begins. This reduces ambiguity and potential inconsistencies.\n",
        "\n",
        "Automated Documentation Generation: Tools like Swagger UI can automatically generate interactive and user-friendly API documentation directly from the specification. This eliminates manual documentation efforts and ensures the documentation remains up-to-date with the API's implementation.\n",
        "\n",
        "Code Generation and SDKs: Some tools can generate server-side code stubs (e.g., Flask routes and data models) and client-side SDKs (for various programming languages) based on the specification. This accelerates development and reduces boilerplate code.\n",
        "\n",
        "Testing and Mocking: The specification can be used to generate mock servers for testing client applications before the actual Flask API is fully implemented. It also facilitates automated API testing by providing a clear definition of expected inputs and outputs.\n",
        "\n",
        "Improved Collaboration: A shared API specification fosters better collaboration among development teams (frontend, backend, QA) by providing a single source of truth for the API's design and functionality."
      ],
      "metadata": {
        "id": "3EHkI3P71rUx"
      }
    },
    {
      "cell_type": "markdown",
      "source": [
        "  19. What are HTTP status codes, and why are they important in a Flask API?"
      ],
      "metadata": {
        "id": "FmBZIaQL19gy"
      }
    },
    {
      "cell_type": "markdown",
      "source": [
        "HTTP status codes are three-digit numbers returned by a server in response to an HTTP request, indicating the outcome of that request. They are a fundamental part of the HTTP protocol and serve as a standardized way for the server to communicate with the client. These codes are categorized into five classes, each represented by the first digit:\n",
        "\n",
        "1xx Informational:\n",
        "\n",
        " The server has received the request and is continuing the process.\n",
        "\n",
        "2xx Success:\n",
        "\n",
        "The request was successfully received, understood, and accepted. (e.g., 200 OK, 201 Created)\n",
        "\n",
        "3xx Redirection:\n",
        "\n",
        " Further action needs to be taken by the client to complete the request. (e.g., 301 Moved Permanently, 304 Not Modified)\n",
        "\n",
        "4xx Client Error:\n",
        "\n",
        " The request contains bad syntax or cannot be fulfilled. (e.g., 400 Bad Request, 404 Not Found, 403 Forbidden)\n",
        "\n",
        "5xx Server Error:\n",
        "\n",
        "The server failed to fulfill an apparently valid request. (e.g., 500 Internal Server Error, 503 Service Unavailable)\n",
        "\n",
        "* Importance in a Flask API:\n",
        "\n",
        "HTTP status codes are crucial in a Flask API for several reasons:\n",
        "\n",
        "Clear Communication:\n",
        "\n",
        " They provide a standardized and unambiguous way for your API to inform the client about the result of their request, whether it was successful, requires redirection, or encountered an error. This clarity is essential for clients to interpret responses correctly and take appropriate actions.\n",
        "\n",
        "Error Handling and Debugging:\n",
        "\n",
        "By returning specific 4xx and 5xx status codes, your Flask API can signal different types of client-side or server-side errors. This helps developers debug issues by immediately identifying the nature of the problem without needing to parse complex error messages within the response body.\n",
        "\n",
        "API Design and Consistency:\n",
        "\n",
        " Adhering to standard HTTP status codes promotes consistency in your API design, making it more predictable and easier for other developers to understand and integrate with. It allows clients to anticipate how your API will behave in various scenarios.\n",
        "\n",
        "Client-Side Logic:\n",
        "\n",
        "Clients can use status codes to implement robust error handling and conditional logic. For example, a client might retry a request if it receives a 503 Service Unavailable code, or display a user-friendly \"page not found\" message for a 404 Not Found response.\n",
        "\n",
        "Caching and Performance:\n",
        "\n",
        " Status codes like 304 Not Modified play a vital role in caching mechanisms, allowing clients to avoid re-downloading resources that haven't changed, thereby improving performance."
      ],
      "metadata": {
        "id": "qD3spDjX2DxD"
      }
    },
    {
      "cell_type": "markdown",
      "source": [
        "  20. How do you handle POST requests in Flask?"
      ],
      "metadata": {
        "id": "pBCW7frW2idu"
      }
    },
    {
      "cell_type": "markdown",
      "source": [
        "Handling POST requests in Flask involves defining a route that accepts the POST method and then accessing the data sent in the request body.\n",
        "\n",
        "Here's a breakdown of the process: import request.\n",
        "    from flask import Flask, request\n",
        "\n",
        "    Define a route with methods=['POST'].\n",
        "\n",
        "The methods=['POST'] argument in the @app.route decorator explicitly tells Flask that this route should only respond to POST requests.\n",
        "\n",
        "Accessing POSTed data:\n",
        "\n",
        "Form data: If the data is sent from an HTML form with method=\"post\", you can access it using request.form. This is a dictionary-like object containing key-value pairs from the form fields.    \n",
        "\n",
        "JSON data: If the data is sent as JSON (common in API endpoints), you can access it using request.get_json().\n",
        "\n",
        "Files: For file uploads, use request.files\n",
        "\n",
        "* Process and respond:\n",
        "\n",
        "After accessing the data, you can perform any necessary processing, such as saving to a database, performing calculations, or validating input.\n",
        "Finally, return a response, which could be a simple string, a rendered template, or JSON data, along with an appropriate HTTP status code (e.g., 200 OK, 201 Created)."
      ],
      "metadata": {
        "id": "dLh5HUS-2nf2"
      }
    },
    {
      "cell_type": "markdown",
      "source": [
        "  21.  How would you secure a Flask API?"
      ],
      "metadata": {
        "id": "DmQbWbZ-3jrk"
      }
    },
    {
      "cell_type": "markdown",
      "source": [
        "Securing a Flask API involves implementing a combination of best practices and security measures to protect against various threats.\n",
        "\n",
        "1. Authentication and Authorization:\n",
        "\n",
        "Token-based Authentication (e.g., JWT): This is a common and recommended approach for RESTful APIs. Users authenticate once and receive a JSON Web Token (JWT), which is then sent with each subsequent request for authorization.\n",
        "\n",
        "Libraries like Flask-JWT-Extended simplify this.\n",
        "\n",
        "API Keys: For simpler use cases or machine-to-machine communication, static API keys can be used, passed in headers or as query parameters.\n",
        "\n",
        "Role-Based Access Control (RBAC): Implement a system to define different user roles and assign specific permissions to each role, ensuring users can only access resources they are authorized for.\n",
        "\n",
        "2. Data Protection:\n",
        "\n",
        "HTTPS: Always use HTTPS to encrypt communication between the client and the API, preventing eavesdropping and man-in-the-middle attacks.\n",
        "\n",
        "Secure Storage of Sensitive Data: Store sensitive data like passwords securely using strong hashing algorithms (e.g., werkzeug.security.\n",
        "generate_password_hash).\n",
        "\n",
        "Input Validation: Sanitize and validate all user input to prevent injection attacks (SQL injection, XSS, etc.).\n",
        "\n",
        "3. API Security Best Practices:\n",
        "\n",
        "Rate Limiting: Implement rate limiting to prevent brute-force attacks and denial-of-service (DoS) attacks.\n",
        "\n",
        "CORS (Cross-Origin Resource Sharing): Configure CORS headers carefully to control which origins are allowed to access your API.\n",
        "\n",
        "Error Handling: Implement robust error handling that avoids revealing sensitive information in error messages.\n",
        "\n",
        "Security Headers: Use HTTP security headers like HSTS, Content Security Policy (CSP), and X-Content-Type-Options to enhance browser security.\n",
        "\n",
        "Vulnerability Scanning: Regularly scan your API for vulnerabilities using tools like OWASP ZAP.\n",
        "\n",
        "Dependency Management: Keep all your dependencies updated to their latest secure versions.\n",
        "\n",
        "Environment Variables for Secrets: Store sensitive configurations like secret keys and database credentials in environment variables rather than directly in your code.\n",
        "\n",
        "\n",
        "4. Server-Side Security:\n",
        "\n",
        "Secure Server Configuration: Ensure your server (e.g., Nginx, Apache) is securely configured and only necessary ports are open.\n",
        "\n",
        "Regular Updates: Keep your operating system and all software components updated to patch known vulnerabilities.\n",
        "\n",
        "Logging and Monitoring: Implement comprehensive logging and monitoring to detect and respond to suspicious activity."
      ],
      "metadata": {
        "id": "L20qcR4q3qK1"
      }
    },
    {
      "cell_type": "markdown",
      "source": [
        "  22. What is the significance of the Flask-RESTful extension?"
      ],
      "metadata": {
        "id": "qb17iIrF4I0I"
      }
    },
    {
      "cell_type": "markdown",
      "source": [
        "  Flask-RESTful's significance lies in simplifying REST API development within the Flask framework by providing a structured, object-oriented approach using classes for resources and methods for HTTP operations (GET, POST, etc.). It streamlines request handling, response formatting (especially JSON), error management, and encourages REST best practices, leading to cleaner, more reusable code and faster API development."
      ],
      "metadata": {
        "id": "LDwLo9WG4QmK"
      }
    },
    {
      "cell_type": "markdown",
      "source": [
        "  23. What is the role of Flask’s session object?"
      ],
      "metadata": {
        "id": "vV_qwpvR4T_6"
      }
    },
    {
      "cell_type": "markdown",
      "source": [
        "Flask's session object provides a server-side mechanism for storing user-specific data across multiple requests, allowing applications to maintain state for a user's interaction, such as login status or shopping cart contents. It works by storing a cryptographically signed session ID as a cookie in the user's browser. When the user makes a subsequent request, the session ID is sent back to the server, which uses it to retrieve and load the corresponding user-specific data from its internal storage, making the session object act like a dictionary to store and access this information."
      ],
      "metadata": {
        "id": "jiQoBXDL4dHc"
      }
    },
    {
      "cell_type": "markdown",
      "source": [
        "***Practical Questions***"
      ],
      "metadata": {
        "id": "jHPyBb3X4imD"
      }
    },
    {
      "cell_type": "markdown",
      "source": [
        " 1. How do you create a basic Flask application?"
      ],
      "metadata": {
        "id": "abV4xT9y4nDb"
      }
    },
    {
      "cell_type": "code",
      "metadata": {
        "id": "6e6ab0c9"
      },
      "source": [
        "from flask import Flask\n",
        "\n",
        "# Create a Flask application instance\n",
        "app = Flask(__name__)\n",
        "\n",
        "# Define a route for the homepage\n",
        "@app.route('/')\n",
        "def hello_world():\n",
        "    return 'Hello, World!'\n",
        "\n",
        "# Run the application\n",
        "if __name__ == '__main__':\n",
        "    app.run(debug=True)"
      ],
      "execution_count": null,
      "outputs": []
    },
    {
      "cell_type": "markdown",
      "source": [
        "This code creates a simple Flask application with a single route (/) that returns \"Hello, World!\". The if __name__ == '__main__': block ensures that the application runs only when the script is executed directly."
      ],
      "metadata": {
        "id": "W5J_mnUjFNhf"
      }
    },
    {
      "cell_type": "markdown",
      "source": [
        " 2.  How do you serve static files like images or CSS in Flask?"
      ],
      "metadata": {
        "id": "BDUlQm-UFSyN"
      }
    },
    {
      "cell_type": "code",
      "metadata": {
        "id": "KxHuAr-AGXm2"
      },
      "source": [
        "from flask import Flask, render_template_string\n",
        "\n",
        "app = Flask(__name__)\n",
        "\n",
        "# Define a route that renders an HTML template with a link to a static file\n",
        "@app.route('/')\n",
        "def index():\n",
        "    # In a real application, you would typically have an HTML file\n",
        "    # in a 'templates' folder and use render_template('index.html')\n",
        "    html_template = \"\"\"\n",
        "    <!DOCTYPE html>\n",
        "    <html>\n",
        "    <head>\n",
        "        <title>Static Files Example</title>\n",
        "        <link rel=\"stylesheet\" href=\"{{ url_for('static', filename='style.css') }}\">\n",
        "    </head>\n",
        "    <body>\n",
        "        <h1>Hello, World!</h1>\n",
        "        <p>This is an example of serving static files in Flask.</p>\n",
        "        <img src=\"{{ url_for('static', filename='flask_logo.png') }}\" alt=\"Flask Logo\">\n",
        "    </body>\n",
        "    </html>\n",
        "    \"\"\"\n",
        "    return render_template_string(html_template)\n",
        "\n",
        "# To run this example, you would also need to:\n",
        "# 1. Create a 'static' folder in the same directory as this script.\n",
        "# 2. Inside the 'static' folder, create 'style.css' and 'flask_logo.png'.\n",
        "# 3. Run this script.\n",
        "\n",
        "if __name__ == '__main__':\n",
        "    # You would not typically run with debug=True in a production environment\n",
        "    app.run(debug=True)"
      ],
      "execution_count": null,
      "outputs": []
    },
    {
      "cell_type": "markdown",
      "source": [
        "3.  How do you define different routes with different HTTP methods in Flask?"
      ],
      "metadata": {
        "id": "gLrVtzT_GdUL"
      }
    },
    {
      "cell_type": "code",
      "metadata": {
        "id": "GiaHWMwDG2nm"
      },
      "source": [
        "from flask import Flask, request\n",
        "\n",
        "app = Flask(__name__)\n",
        "\n",
        "# Route that accepts only GET requests (default)\n",
        "@app.route('/get_data', methods=['GET'])\n",
        "def get_data():\n",
        "    return \"This route accepts only GET requests.\"\n",
        "\n",
        "# Route that accepts only POST requests\n",
        "@app.route('/post_data', methods=['POST'])\n",
        "def post_data():\n",
        "    if request.method == 'POST':\n",
        "        # Access data from the POST request\n",
        "        # For example, if sending form data:\n",
        "        # data = request.form.get('some_key')\n",
        "        # If sending JSON data:\n",
        "        # data = request.get_json()\n",
        "        return \"This route accepts only POST requests.\"\n",
        "    else:\n",
        "        return \"Method not allowed\", 405 # Return 405 for other methods\n",
        "\n",
        "# Route that accepts both GET and POST requests\n",
        "@app.route('/submit_form', methods=['GET', 'POST'])\n",
        "def submit_form():\n",
        "    if request.method == 'POST':\n",
        "        # Process POST data\n",
        "        return \"Form submitted successfully via POST.\"\n",
        "    else:\n",
        "        # Display the form for GET requests\n",
        "        return \"This route accepts both GET and POST requests. Send a POST request to submit the form.\"\n",
        "\n",
        "if __name__ == '__main__':\n",
        "    app.run(debug=True)"
      ],
      "execution_count": null,
      "outputs": []
    },
    {
      "cell_type": "markdown",
      "source": [
        "4. How do you render HTML templates in Flask?"
      ],
      "metadata": {
        "id": "bMhd7VgpG7m-"
      }
    },
    {
      "cell_type": "code",
      "metadata": {
        "id": "13fc2cd9"
      },
      "source": [
        "from flask import Flask, render_template\n",
        "\n",
        "app = Flask(__name__)\n",
        "\n",
        "# Assuming you have a 'templates' folder in the same directory\n",
        "# and an HTML file named 'index.html' inside it.\n",
        "\n",
        "@app.route('/')\n",
        "def index():\n",
        "    # You can pass variables to the template\n",
        "    title = \"My Awesome Flask App\"\n",
        "    items = [\"Item 1\", \"Item 2\", \"Item 3\"]\n",
        "    return render_template('index.html', title=title, items=items)\n",
        "\n",
        "if __name__ == '__main__':\n",
        "    app.run(debug=True)"
      ],
      "execution_count": null,
      "outputs": []
    },
    {
      "cell_type": "markdown",
      "source": [
        "5. How can you generate URLs for routes in Flask using url_for?"
      ],
      "metadata": {
        "id": "Oclg9WtTHJ7f"
      }
    },
    {
      "cell_type": "code",
      "metadata": {
        "id": "574d8bac"
      },
      "source": [
        "from flask import Flask, url_for\n",
        "\n",
        "app = Flask(__name__)\n",
        "\n",
        "@app.route('/')\n",
        "def index():\n",
        "    return 'Index Page'\n",
        "\n",
        "@app.route('/user/<username>')\n",
        "def show_user_profile(username):\n",
        "    # show the user profile for that user\n",
        "    return f'User {username}'\n",
        "\n",
        "@app.route('/post/<int:post_id>')\n",
        "def show_post(post_id):\n",
        "    # show the post with the given id, the id is an integer\n",
        "    return f'Post {post_id}'\n",
        "\n",
        "with app.test_request_context():\n",
        "    print(url_for('index'))\n",
        "    print(url_for('show_user_profile', username='John Doe'))\n",
        "    print(url_for('show_post', post_id=1))\n",
        "    print(url_for('show_post', post_id=1, _external=True))"
      ],
      "execution_count": null,
      "outputs": []
    },
    {
      "cell_type": "markdown",
      "source": [
        "6. How do you handle forms in Flask?"
      ],
      "metadata": {
        "id": "jT1ulNTfHYqw"
      }
    },
    {
      "cell_type": "markdown",
      "source": [
        "Handling forms in Flask involves creating the form, defining a route to handle the form submission, and processing the submitted data. Here is a plan to demonstrate how to handle forms in Flask:\n",
        "\n",
        "\n",
        "Create an html form: Generate an HTML form with input fields and a submit button.\n",
        "\n",
        "Define a flask route to display the form: Create a Flask route that renders the HTML form when a GET request is received.\n",
        "\n",
        "Define a flask route to handle form submission: Create a Flask route that accepts POST requests and processes the data submitted through the form.\n",
        "\n",
        "Access form data: Demonstrate how to access the submitted form data using Flask's request object.\n",
        "\n",
        "Process and respond: Show how to process the form data and return a response to the user.\n",
        "\n",
        "Finish task: Summarize the process of handling forms in Flask.\n"
      ],
      "metadata": {
        "id": "7iHlMhJpHsyK"
      }
    },
    {
      "cell_type": "markdown",
      "source": [
        "7. How can you validate form data in Flask?"
      ],
      "metadata": {
        "id": "h2oT3hrNHzDL"
      }
    },
    {
      "cell_type": "markdown",
      "source": [
        "Validating form data is a crucial step in handling forms in Flask to ensure the data is in the correct format and meets your requirements. Here is a plan to demonstrate how to validate form data in Flask:\n",
        "\n",
        "\n",
        "Set up a basic flask application: Create a simple Flask application with a route to display a form and a route to handle form submission.\n",
        "\n",
        "Create an html form: Generate an HTML form with various input fields that require validation.\n",
        "\n",
        "Implement server-side validation: Use Flask's request object to access the submitted form data and write Python code to validate the data (e.g., check for empty fields, data types, format).\n",
        "\n",
        "Provide feedback to the user: If validation fails, re-render the form with error messages indicating which fields are invalid.\n",
        "\n",
        "Process valid data: If validation succeeds, process the form data as needed (e.g., save to a database).\n",
        "\n",
        "Finish task: Summarize the techniques for form validation in Flask."
      ],
      "metadata": {
        "id": "SwPbdRLaIBb8"
      }
    },
    {
      "cell_type": "markdown",
      "source": [
        "8.  How do you manage sessions in Flask?"
      ],
      "metadata": {
        "id": "nBF0MST2IE4n"
      }
    },
    {
      "cell_type": "code",
      "metadata": {
        "id": "e7387f3b"
      },
      "source": [
        "from flask import Flask, session, redirect, url_for, request\n",
        "\n",
        "app = Flask(__name__)\n",
        "app.secret_key = 'your_secret_key' # Replace with a strong, random key\n",
        "\n",
        "@app.route('/')\n",
        "def index():\n",
        "    if 'username' in session:\n",
        "        return f'Logged in as {session[\"username\"]}'\n",
        "    return 'You are not logged in'\n",
        "\n",
        "@app.route('/login', methods=['GET', 'POST'])\n",
        "def login():\n",
        "    if request.method == 'POST':\n",
        "        session['username'] = request.form['username']\n",
        "        return redirect(url_for('index'))\n",
        "    return '''\n",
        "        <form method=\"post\">\n",
        "            <p><input type=text name=username>\n",
        "            <p><input type=submit value=Login>\n",
        "        </form>\n",
        "    '''\n",
        "\n",
        "@app.route('/logout')\n",
        "def logout():\n",
        "    # remove the username from the session if it's there\n",
        "    session.pop('username', None)\n",
        "    return redirect(url_for('index'))\n",
        "\n",
        "if __name__ == '__main__':\n",
        "    app.run(debug=True)"
      ],
      "execution_count": null,
      "outputs": []
    },
    {
      "cell_type": "markdown",
      "source": [
        "9. How do you redirect to a different route in Flask?"
      ],
      "metadata": {
        "id": "zY72Ro6tIWsX"
      }
    },
    {
      "cell_type": "code",
      "metadata": {
        "id": "9ddc384f"
      },
      "source": [
        "from flask import Flask, redirect, url_for\n",
        "\n",
        "app = Flask(__name__)\n",
        "\n",
        "@app.route('/')\n",
        "def index():\n",
        "    return 'This is the index page. Go to the /redirect_me route to be redirected.'\n",
        "\n",
        "@app.route('/target')\n",
        "def target_route():\n",
        "    return 'You have been successfully redirected!'\n",
        "\n",
        "@app.route('/redirect_me')\n",
        "def redirect_me():\n",
        "    # Redirect to the 'target_route'\n",
        "    return redirect(url_for('target_route'))\n",
        "\n",
        "if __name__ == '__main__':\n",
        "    app.run(debug=True)"
      ],
      "execution_count": null,
      "outputs": []
    },
    {
      "cell_type": "markdown",
      "source": [
        "10.  How do you handle errors in Flask (e.g., 404)?"
      ],
      "metadata": {
        "id": "TBthmPeDIjNA"
      }
    },
    {
      "cell_type": "code",
      "metadata": {
        "id": "89f0b610"
      },
      "source": [
        "from flask import Flask, jsonify, abort\n",
        "\n",
        "app = Flask(__name__)\n",
        "\n",
        "# Custom error handler for 404 Not Found errors\n",
        "@app.errorhandler(404)\n",
        "def not_found_error(error):\n",
        "    return jsonify({\"error\": \"Not Found\", \"message\": str(error)}), 404\n",
        "\n",
        "# Custom error handler for 500 Internal Server Errors\n",
        "@app.errorhandler(500)\n",
        "def internal_server_error(error):\n",
        "    return jsonify({\"error\": \"Internal Server Error\", \"message\": \"Something went wrong on the server.\"}), 500\n",
        "\n",
        "# Example route that might raise a 404 error\n",
        "@app.route('/data/<int:item_id>')\n",
        "def get_data(item_id):\n",
        "    if item_id == 1:\n",
        "        return jsonify({\"item\": \"Example Item\"})\n",
        "    else:\n",
        "        # Use abort() to raise an HTTPException, which will be caught by the errorhandler\n",
        "        abort(404, description=\"Item not found\")\n",
        "\n",
        "if __name__ == '__main__':\n",
        "    app.run(debug=True)"
      ],
      "execution_count": null,
      "outputs": []
    },
    {
      "cell_type": "markdown",
      "source": [
        "11. How do you structure a Flask app using Blueprints?"
      ],
      "metadata": {
        "id": "xu9GD-FWIxXJ"
      }
    },
    {
      "cell_type": "markdown",
      "source": [
        "Structuring a Flask application using Blueprints helps organize your codebase into modular and reusable components. Here is a plan to demonstrate how to structure a Flask app using Blueprints:\n",
        "\n",
        "\n",
        "Create blueprint instances: Define separate Python files for different parts of your application (e.g., authentication, blog posts) and create Blueprint instances in each file.\n",
        "\n",
        "Define routes within blueprints: Define routes and view functions within each Blueprint, just like you would in a regular Flask application.\n",
        "\n",
        "Register blueprints with the main app: In your main application file, import the Blueprint instances and register them with your Flask application instance.\n",
        "\n",
        "Access routes defined in blueprints: Show how to access the routes defined within the registered Blueprints.\n",
        "\n",
        "Finish task: Summarize the benefits of using Blueprints for structuring Flask applications."
      ],
      "metadata": {
        "id": "VRDw5f36I8kD"
      }
    },
    {
      "cell_type": "markdown",
      "source": [
        "12. How do you define a custom Jinja filter in Flask?"
      ],
      "metadata": {
        "id": "z3eLkvgwJByD"
      }
    },
    {
      "cell_type": "code",
      "metadata": {
        "id": "431506dd"
      },
      "source": [
        "from flask import Flask, render_template_string\n",
        "\n",
        "app = Flask(__name__)\n",
        "\n",
        "# Method 1: Using the @app.template_filter() decorator\n",
        "@app.template_filter('reverse_string')\n",
        "def reverse_string_filter(s):\n",
        "    return s[::-1]\n",
        "\n",
        "# Method 2: Adding the filter to app.jinja_env.filters\n",
        "def capitalize_string_filter(s):\n",
        "    return s.capitalize()\n",
        "\n",
        "app.jinja_env.filters['capitalize_string'] = capitalize_string_filter\n",
        "\n",
        "@app.route('/')\n",
        "def index():\n",
        "    template = \"\"\"\n",
        "    <!DOCTYPE html>\n",
        "    <html>\n",
        "    <head>\n",
        "        <title>Custom Jinja Filters</title>\n",
        "    </head>\n",
        "    <body>\n",
        "        <h1>Custom Jinja Filters Example</h1>\n",
        "        <p>Original string: Hello World</p>\n",
        "        <p>Reversed string: {{ \"Hello World\" | reverse_string }}</p>\n",
        "        <p>Capitalized string: {{ \"flask is awesome\" | capitalize_string }}</p>\n",
        "    </body>\n",
        "    </html>\n",
        "    \"\"\"\n",
        "    return render_template_string(template)\n",
        "\n",
        "if __name__ == '__main__':\n",
        "    app.run(debug=True)"
      ],
      "execution_count": null,
      "outputs": []
    },
    {
      "cell_type": "markdown",
      "source": [
        "13. How can you redirect with query parameters in Flask?"
      ],
      "metadata": {
        "id": "xZaXfq-FJLf8"
      }
    },
    {
      "cell_type": "code",
      "metadata": {
        "id": "f86bfe78"
      },
      "source": [
        "from flask import Flask, redirect, url_for, request\n",
        "\n",
        "app = Flask(__name__)\n",
        "\n",
        "@app.route('/')\n",
        "def index():\n",
        "    return 'This is the index page. Go to the /redirect_with_params route to be redirected with query parameters.'\n",
        "\n",
        "@app.route('/target')\n",
        "def target_route():\n",
        "    param1 = request.args.get('param1')\n",
        "    param2 = request.args.get('param2')\n",
        "    return f'You have been successfully redirected! Received parameters: param1={param1}, param2={param2}'\n",
        "\n",
        "@app.route('/redirect_with_params')\n",
        "def redirect_with_params():\n",
        "    # Redirect to the 'target_route' with query parameters\n",
        "    return redirect(url_for('target_route', param1='value1', param2='value2'))\n",
        "\n",
        "if __name__ == '__main__':\n",
        "    app.run(debug=True)"
      ],
      "execution_count": null,
      "outputs": []
    },
    {
      "cell_type": "markdown",
      "source": [
        "14. How do you return JSON responses in Flask?"
      ],
      "metadata": {
        "id": "Ck0uPgi-Jqo3"
      }
    },
    {
      "cell_type": "code",
      "metadata": {
        "id": "1d43f556"
      },
      "source": [
        "from flask import Flask, jsonify\n",
        "\n",
        "app = Flask(__name__)\n",
        "\n",
        "@app.route('/data')\n",
        "def get_data():\n",
        "    data = {\n",
        "        \"name\": \"Example Item\",\n",
        "        \"id\": 123,\n",
        "        \"tags\": [\"flask\", \"json\", \"api\"]\n",
        "    }\n",
        "    return jsonify(data)\n",
        "\n",
        "@app.route('/items')\n",
        "def get_items():\n",
        "    items = [\n",
        "        {\"id\": 1, \"name\": \"Item A\"},\n",
        "        {\"id\": 2, \"name\": \"Item B\"}\n",
        "    ]\n",
        "    return jsonify(items)\n",
        "\n",
        "if __name__ == '__main__':\n",
        "    app.run(debug=True)"
      ],
      "execution_count": null,
      "outputs": []
    },
    {
      "cell_type": "markdown",
      "source": [
        "15. How do you capture URL parameters in Flask?"
      ],
      "metadata": {
        "id": "VZK0goyeJ3w2"
      }
    },
    {
      "cell_type": "code",
      "metadata": {
        "id": "f6b3e333"
      },
      "source": [
        "from flask import Flask\n",
        "\n",
        "app = Flask(__name__)\n",
        "\n",
        "@app.route('/user/<username>')\n",
        "def show_user_profile(username):\n",
        "    # show the user profile for that user\n",
        "    return f'User: {username}'\n",
        "\n",
        "@app.route('/post/<int:post_id>')\n",
        "def show_post(post_id):\n",
        "    # show the post with the given id, the id is an integer\n",
        "    return f'Post ID: {post_id}'\n",
        "\n",
        "@app.route('/path/<path:subpath>')\n",
        "def show_subpath(subpath):\n",
        "    # show the subpath after /path/\n",
        "    return f'Subpath: {subpath}'\n",
        "\n",
        "if __name__ == '__main__':\n",
        "    app.run(debug=True)"
      ],
      "execution_count": null,
      "outputs": []
    }
  ]
}